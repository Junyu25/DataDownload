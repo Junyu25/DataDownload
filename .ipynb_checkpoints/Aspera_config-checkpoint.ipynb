{
 "cells": [
  {
   "cell_type": "markdown",
   "metadata": {},
   "source": [
    "## Aspera Config"
   ]
  },
  {
   "cell_type": "markdown",
   "metadata": {},
   "source": [
    "### Download List"
   ]
  },
  {
   "cell_type": "code",
   "execution_count": null,
   "metadata": {},
   "outputs": [],
   "source": [
    "ascp -i --file-list download-list"
   ]
  },
  {
   "cell_type": "code",
   "execution_count": null,
   "metadata": {},
   "outputs": [],
   "source": []
  },
  {
   "cell_type": "markdown",
   "metadata": {},
   "source": [
    "### Enabling from the ascp Command Line"
   ]
  },
  {
   "cell_type": "code",
   "execution_count": null,
   "metadata": {},
   "outputs": [],
   "source": [
    "ascp --file-checksum=md5 --file-manifest=text --file-manifest=/tmp file asp1@189.0.202.39:/destination_path"
   ]
  },
  {
   "cell_type": "markdown",
   "metadata": {},
   "source": [
    "### 断点续传"
   ]
  },
  {
   "cell_type": "code",
   "execution_count": null,
   "metadata": {},
   "outputs": [],
   "source": [
    "ascp -k 1 "
   ]
  },
  {
   "cell_type": "markdown",
   "metadata": {},
   "source": [
    "Aspera 断点续传"
   ]
  },
  {
   "cell_type": "markdown",
   "metadata": {},
   "source": [
    "下载好的文件 md5 check"
   ]
  },
  {
   "cell_type": "code",
   "execution_count": 16,
   "metadata": {},
   "outputs": [
    {
     "name": "stdout",
     "output_type": "stream",
     "text": [
      "ERR695621_1.fastq.gz  ERR695621_2.fastq.gz  ERR695621_2.fastq.gz.aspx  logs\n"
     ]
    }
   ],
   "source": [
    "!ls /mnt/data1/LD_lab/JunyuChen/meta-analysis/data/seq/PRJEB7949/ERR695621"
   ]
  },
  {
   "cell_type": "code",
   "execution_count": 18,
   "metadata": {},
   "outputs": [
    {
     "name": "stdout",
     "output_type": "stream",
     "text": [
      "5539f8aa6e8bb30ddd73138b430cbfe8  /mnt/data1/LD_lab/JunyuChen/meta-analysis/data/seq/PRJEB7949/ERR695621/ERR695621_1.fastq.gz\n"
     ]
    }
   ],
   "source": [
    "!md5sum /mnt/data1/LD_lab/JunyuChen/meta-analysis/data/seq/PRJEB7949/ERR695621/ERR695621_1.fastq.gz"
   ]
  },
  {
   "cell_type": "code",
   "execution_count": 19,
   "metadata": {},
   "outputs": [
    {
     "name": "stdout",
     "output_type": "stream",
     "text": [
      "7fa4b5400c4b4db8ce3ba7e5234fc7d8  /mnt/data1/LD_lab/JunyuChen/meta-analysis/data/seq/PRJEB7949/ERR695621/ERR695621_2.fastq.gz\n"
     ]
    }
   ],
   "source": [
    "!md5sum /mnt/data1/LD_lab/JunyuChen/meta-analysis/data/seq/PRJEB7949/ERR695621/ERR695621_2.fastq.gz"
   ]
  },
  {
   "cell_type": "markdown",
   "metadata": {},
   "source": [
    "5539f8aa6e8bb30ddd73138b430cbfe8\n",
    "\n",
    "1fba87fad3a53202a306272b773bfd31"
   ]
  },
  {
   "cell_type": "code",
   "execution_count": null,
   "metadata": {},
   "outputs": [],
   "source": []
  },
  {
   "cell_type": "code",
   "execution_count": null,
   "metadata": {},
   "outputs": [],
   "source": []
  },
  {
   "cell_type": "code",
   "execution_count": null,
   "metadata": {},
   "outputs": [],
   "source": [
    "!md5sum /mnt/data1/LD_lab/JunyuChen/meta-analysis/data/seq/PRJEB7949/ERR695621/ERR695621_2.fastq.gz"
   ]
  },
  {
   "cell_type": "code",
   "execution_count": 1,
   "metadata": {},
   "outputs": [
    {
     "name": "stdout",
     "output_type": "stream",
     "text": [
      "3bb90e134548c4dfd316265a16dc6d57  /mnt/data1/LD_lab/JunyuChen/meta-analysis/data/seq/PRJEB7949/ERR695628/ERR695628_1.fastq.gz\n",
      "b44117cc7da344eef44a7b76a4f24cf4  /mnt/data1/LD_lab/JunyuChen/meta-analysis/data/seq/PRJEB7949/ERR695628/ERR695628_2.fastq.gz\n"
     ]
    }
   ],
   "source": [
    "!md5sum /mnt/data1/LD_lab/JunyuChen/meta-analysis/data/seq/PRJEB7949/ERR695628/ERR695628_1.fastq.gz\n",
    "!md5sum /mnt/data1/LD_lab/JunyuChen/meta-analysis/data/seq/PRJEB7949/ERR695628/ERR695628_2.fastq.gz"
   ]
  },
  {
   "cell_type": "markdown",
   "metadata": {},
   "source": [
    "3bb90e134548c4dfd316265a16dc6d57\n",
    "b44117cc7da344eef44a7b76a4f24cf4"
   ]
  },
  {
   "cell_type": "code",
   "execution_count": 2,
   "metadata": {},
   "outputs": [
    {
     "name": "stdout",
     "output_type": "stream",
     "text": [
      "74c0a4ac8f2d1fcb1a6c4de0a6d369f7  /mnt/data1/LD_lab/JunyuChen/meta-analysis/data/seq/PRJEB7949/ERR695598/ERR695598_1.fastq.gz\n",
      "fd8783efd25bd8c43cc608ad7d8bb6c6  /mnt/data1/LD_lab/JunyuChen/meta-analysis/data/seq/PRJEB7949/ERR695598/ERR695598_2.fastq.gz\n"
     ]
    }
   ],
   "source": [
    "!md5sum /mnt/data1/LD_lab/JunyuChen/meta-analysis/data/seq/PRJEB7949/ERR695598/ERR695598_1.fastq.gz\n",
    "!md5sum /mnt/data1/LD_lab/JunyuChen/meta-analysis/data/seq/PRJEB7949/ERR695598/ERR695598_2.fastq.gz"
   ]
  },
  {
   "cell_type": "markdown",
   "metadata": {},
   "source": [
    "74c0a4ac8f2d1fcb1a6c4de0a6d369f7\n",
    "fd8783efd25bd8c43cc608ad7d8bb6c6"
   ]
  },
  {
   "cell_type": "code",
   "execution_count": null,
   "metadata": {},
   "outputs": [],
   "source": [
    "/mnt/data1/LD_lab/JunyuChen/meta-analysis/data/seq/PRJEB7949/ERR695628/ERR695628_1.fastq.gz\n",
    "/mnt/data1/LD_lab/JunyuChen/meta-analysis/data/seq/PRJEB7949/ERR695628/ERR695628_2.fastq.gz\n",
    "/mnt/data1/LD_lab/JunyuChen/meta-analysis/data/seq/PRJEB7949/ERR695598/ERR695598_1.fastq.gz\n",
    "/mnt/data1/LD_lab/JunyuChen/meta-analysis/data/seq/PRJEB7949/ERR695598/ERR695598_2.fastq.gz"
   ]
  },
  {
   "cell_type": "code",
   "execution_count": null,
   "metadata": {},
   "outputs": [],
   "source": []
  },
  {
   "cell_type": "markdown",
   "metadata": {},
   "source": [
    "### --file-checksum=md5"
   ]
  },
  {
   "cell_type": "code",
   "execution_count": null,
   "metadata": {},
   "outputs": [],
   "source": [
    "ascp --file-checksum=md5 --file-manifest=text --file-manifest=/tmp file asp1@189.0.202.39:/destination_path"
   ]
  },
  {
   "cell_type": "raw",
   "metadata": {},
   "source": []
  },
  {
   "cell_type": "code",
   "execution_count": null,
   "metadata": {},
   "outputs": [],
   "source": [
    "enaDataGet -f fastq -as /home/junyuchen/Lab/Meta-Analysis/DataDownload/aspera_settings.ini SRR5650021"
   ]
  }
 ],
 "metadata": {
  "kernelspec": {
   "display_name": "Python 3",
   "language": "python",
   "name": "python3"
  },
  "language_info": {
   "codemirror_mode": {
    "name": "ipython",
    "version": 3
   },
   "file_extension": ".py",
   "mimetype": "text/x-python",
   "name": "python",
   "nbconvert_exporter": "python",
   "pygments_lexer": "ipython3",
   "version": "3.7.3"
  }
 },
 "nbformat": 4,
 "nbformat_minor": 4
}

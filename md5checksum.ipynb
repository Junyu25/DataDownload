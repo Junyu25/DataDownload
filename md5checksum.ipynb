{
 "cells": [
  {
   "cell_type": "markdown",
   "metadata": {},
   "source": [
    "## md5 Check"
   ]
  },
  {
   "cell_type": "code",
   "execution_count": 1,
   "metadata": {},
   "outputs": [
    {
     "name": "stdout",
     "output_type": "stream",
     "text": [
      "aspera-transfer-56545d28-b705-4278-857a-9829ee18287d.manifest.txt\n",
      "aspera-transfer-5eca2c81-6a75-4534-8e8a-5d1eaf3bec6c.manifest.txt\n"
     ]
    }
   ],
   "source": [
    "!ls ~/Lab/Meta-Analysis/DataDownload/demo/ERR209530/md5"
   ]
  },
  {
   "cell_type": "code",
   "execution_count": 2,
   "metadata": {},
   "outputs": [
    {
     "data": {
      "text/plain": [
       "'/home/junyuchen/Lab/Meta-Analysis/DataDownload'"
      ]
     },
     "execution_count": 2,
     "metadata": {},
     "output_type": "execute_result"
    }
   ],
   "source": [
    "%pwd"
   ]
  },
  {
   "cell_type": "code",
   "execution_count": 5,
   "metadata": {},
   "outputs": [
    {
     "name": "stdout",
     "output_type": "stream",
     "text": [
      "## Transfer manifest (FASP ver 3.9.1.168954)\n",
      "## Name: ERR209530_2.fastq.gz(+0)\n",
      "## UUID: 56545d28-b705-4278-857a-9829ee18287d\n",
      "## Client: 210.75.253.112:47688\n",
      "## Server: 193.62.193.135:33001\n",
      "## ServerUser: era-fasp\n",
      "## ServerHostname: fasp.sra.ebi.ac.uk\n",
      "## Recipient: 210.75.253.112\n",
      "## Checksum: NONE\n",
      "## FileChecksumType: md5\n",
      "## Cookie: NONE\n",
      "## XferId: NONE\n",
      "## XferRetry: 0\n",
      "## Tags: NONE\n",
      "## Start: 2020-01-06 12:26:35\n",
      "\n",
      "\"ERR209530/ERR209530_2.fastq.gz\" 356523401B 356523401B completed, md5:8d356138206ff55b374f822f64b3ec55\n",
      "\n",
      "\n",
      "===========================================\n",
      "Total number of sources:                1\n",
      "--Total sources scanned:                1\n",
      "Total paths scan attempted:             1\n",
      "--Total paths scan failed:              0\n",
      "--Total paths scan skipped:             0\n",
      "--Total paths scan excluded:            0\n",
      "--Total paths scan completed:           1\n",
      "Total dir transfer attempted:           0\n",
      "--Total dir transfer failed:            0\n",
      "--Total dir transfer passed:            0\n",
      "Total file transfer attempted:          1\n",
      "--Total file transfer failed:           0\n",
      "--Total file transfer passed:           1\n",
      "--Total file transfer skipped:          0\n",
      "===========================================\n",
      "Transfer success\n",
      "Total elapsed: 200.7s\n",
      "Total transferred bytes: 356523401\n"
     ]
    }
   ],
   "source": [
    "!cat ~/Lab/Meta-Analysis/DataDownload/demo/ERR209530/md5/aspera-transfer-56545d28-b705-4278-857a-9829ee18287d.manifest.txt"
   ]
  },
  {
   "cell_type": "code",
   "execution_count": 42,
   "metadata": {},
   "outputs": [
    {
     "data": {
      "text/plain": [
       "'/home/junyuchen/Lab/Meta-Analysis/DataDownload'"
      ]
     },
     "execution_count": 42,
     "metadata": {},
     "output_type": "execute_result"
    }
   ],
   "source": [
    "pwd"
   ]
  },
  {
   "cell_type": "code",
   "execution_count": 123,
   "metadata": {},
   "outputs": [
    {
     "name": "stdout",
     "output_type": "stream",
     "text": [
      "\"ERR209530/ERR209530_2.fastq.gz\" 356523401B 356523401B completed, md5:8d356138206ff55b374f822f64b3ec55\n",
      "\n",
      "TRUE\n"
     ]
    }
   ],
   "source": [
    "import os\n",
    "import re\n",
    "\n",
    "   \n",
    "f = open(\"/home/junyuchen/Lab/Meta-Analysis/DataDownload/demo/ERR209530/md5/aspera-transfer-56545d28-b705-4278-857a-9829ee18287d.manifest.txt\", \"r\")\n",
    "all_lines = f.readlines()\n",
    "\n",
    "\n",
    "info = all_lines[16]\n",
    "\n",
    "tmp = info.split(\",\")\n",
    "#file path\n",
    "file = re.findall('\\\"(.*?)\\\"', tmp[0])\n",
    "#join parent work dir & file\n",
    "path = os.path.join(os.path.dirname(os.getcwd()), file[0])\n",
    "#md5\n",
    "md5info = tmp[1].split(\":\")\n",
    "md5 = md5info[1].replace(\"\\n\", '')\n",
    "#checksum\n",
    "p = os.popen(\"md5sum /home/junyuchen/Lab/Meta-Analysis/DataDownload/demo/ERR209530/ERR209530_2.fastq.gz\")\n",
    "md5info2 = p.read()\n",
    "md5sum = md5info2.split(\" \")\n",
    "if md5 == md5sum[0]:\n",
    "    print(\"TRUE\")\n",
    "else:\n",
    "    \n",
    "\n",
    "#if not, add to pandas \n",
    "#add all info to pandas?\n",
    "    \n",
    "f.close()"
   ]
  },
  {
   "cell_type": "code",
   "execution_count": 120,
   "metadata": {},
   "outputs": [],
   "source": [
    "p = os.popen(\"md5sum /home/junyuchen/Lab/Meta-Analysis/DataDownload/demo/ERR209530/ERR209530_2.fastq.gz\")"
   ]
  },
  {
   "cell_type": "code",
   "execution_count": 116,
   "metadata": {},
   "outputs": [
    {
     "data": {
      "text/plain": [
       "'8d356138206ff55b374f822f64b3ec55  /home/junyuchen/Lab/Meta-Analysis/DataDownload/demo/ERR209530/ERR209530_2.fastq.gz\\n'"
      ]
     },
     "execution_count": 116,
     "metadata": {},
     "output_type": "execute_result"
    }
   ],
   "source": [
    "p.read()"
   ]
  },
  {
   "cell_type": "code",
   "execution_count": 109,
   "metadata": {},
   "outputs": [
    {
     "data": {
      "text/plain": [
       "str"
      ]
     },
     "execution_count": 109,
     "metadata": {},
     "output_type": "execute_result"
    }
   ],
   "source": [
    "type(p.read())"
   ]
  },
  {
   "cell_type": "code",
   "execution_count": 121,
   "metadata": {},
   "outputs": [],
   "source": [
    "md5sum = p.read()"
   ]
  },
  {
   "cell_type": "code",
   "execution_count": 122,
   "metadata": {},
   "outputs": [
    {
     "data": {
      "text/plain": [
       "['8d356138206ff55b374f822f64b3ec55',\n",
       " '',\n",
       " '/home/junyuchen/Lab/Meta-Analysis/DataDownload/demo/ERR209530/ERR209530_2.fastq.gz\\n']"
      ]
     },
     "execution_count": 122,
     "metadata": {},
     "output_type": "execute_result"
    }
   ],
   "source": [
    "md5sum.split(\" \")"
   ]
  },
  {
   "cell_type": "code",
   "execution_count": null,
   "metadata": {},
   "outputs": [],
   "source": []
  },
  {
   "cell_type": "code",
   "execution_count": null,
   "metadata": {},
   "outputs": [],
   "source": []
  },
  {
   "cell_type": "code",
   "execution_count": null,
   "metadata": {},
   "outputs": [],
   "source": []
  },
  {
   "cell_type": "code",
   "execution_count": 49,
   "metadata": {},
   "outputs": [
    {
     "name": "stdout",
     "output_type": "stream",
     "text": [
      "8d356138206ff55b374f822f64b3ec55  /home/junyuchen/Lab/Meta-Analysis/DataDownload/demo/ERR209530/ERR209530_2.fastq.gz\n"
     ]
    }
   ],
   "source": [
    "!md5sum /home/junyuchen/Lab/Meta-Analysis/DataDownload/demo/ERR209530/ERR209530_2.fastq.gz"
   ]
  },
  {
   "cell_type": "code",
   "execution_count": 44,
   "metadata": {},
   "outputs": [
    {
     "data": {
      "text/plain": [
       "'/home/junyuchen/Lab/Meta-Analysis/ERR209530/ERR209530_2.fastq.gz'"
      ]
     },
     "execution_count": 44,
     "metadata": {},
     "output_type": "execute_result"
    }
   ],
   "source": [
    "path"
   ]
  },
  {
   "cell_type": "code",
   "execution_count": 33,
   "metadata": {},
   "outputs": [
    {
     "data": {
      "text/plain": [
       "list"
      ]
     },
     "execution_count": 33,
     "metadata": {},
     "output_type": "execute_result"
    }
   ],
   "source": [
    "file\n",
    "type(file)"
   ]
  },
  {
   "cell_type": "code",
   "execution_count": 38,
   "metadata": {},
   "outputs": [
    {
     "data": {
      "text/plain": [
       "'/home/junyuchen/Lab/Meta-Analysis'"
      ]
     },
     "execution_count": 38,
     "metadata": {},
     "output_type": "execute_result"
    }
   ],
   "source": [
    "d = os.path.dirname(os.getcwd())\n",
    "d"
   ]
  },
  {
   "cell_type": "code",
   "execution_count": 23,
   "metadata": {},
   "outputs": [
    {
     "data": {
      "text/plain": [
       "['\"ERR209530/ERR209530_2.fastq.gz\" 356523401B 356523401B completed',\n",
       " ' md5:8d356138206ff55b374f822f64b3ec55\\n']"
      ]
     },
     "execution_count": 23,
     "metadata": {},
     "output_type": "execute_result"
    }
   ],
   "source": [
    "tmp"
   ]
  },
  {
   "cell_type": "code",
   "execution_count": 18,
   "metadata": {},
   "outputs": [
    {
     "data": {
      "text/plain": [
       "str"
      ]
     },
     "execution_count": 18,
     "metadata": {},
     "output_type": "execute_result"
    }
   ],
   "source": [
    "type(info)"
   ]
  },
  {
   "cell_type": "code",
   "execution_count": null,
   "metadata": {},
   "outputs": [],
   "source": []
  },
  {
   "cell_type": "code",
   "execution_count": 127,
   "metadata": {},
   "outputs": [
    {
     "name": "stdout",
     "output_type": "stream",
     "text": [
      "aspera-transfer-56545d28-b705-4278-857a-9829ee18287d.manifest.txt\n",
      "/home/junyuchen/Lab/Meta-Analysis/DataDownload/demo/ERR209530/md5/aspera-transfer-56545d28-b705-4278-857a-9829ee18287d.manifest.txt\n",
      "aspera-transfer-5eca2c81-6a75-4534-8e8a-5d1eaf3bec6c.manifest.txt\n",
      "/home/junyuchen/Lab/Meta-Analysis/DataDownload/demo/ERR209530/md5/aspera-transfer-5eca2c81-6a75-4534-8e8a-5d1eaf3bec6c.manifest.txt\n"
     ]
    }
   ],
   "source": [
    "md5s = \"/home/junyuchen/Lab/Meta-Analysis/DataDownload/demo/ERR209530/md5\"\n",
    "for md5 in os.listdir(md5s):\n",
    "    \n",
    "    if md5.endswith(\".manifest.txt\"):\n",
    "        path = os.path.join(md5s, md5)\n",
    "        print(md5)\n",
    "        print(path)"
   ]
  },
  {
   "cell_type": "code",
   "execution_count": null,
   "metadata": {},
   "outputs": [],
   "source": [
    "import os\n",
    "import re\n",
    "\n",
    "md5s = \"/home/junyuchen/Lab/Meta-Analysis/DataDownload/demo/ERR209530/md5\"\n",
    "for md5 in os.listdir(md5s):\n",
    "    \n",
    "    if md5.endswith(\".manifest.txt\"):\n",
    "        path = os.path.join(md5s, md5)\n",
    "        md5check(path)\n",
    "        \n",
    "\n",
    "def md5check(path):\n",
    "    f = open(path, \"r\")\n",
    "    all_lines = f.readlines()\n",
    "    info = all_lines[16]\n",
    "    tmp = info.split(\",\")\n",
    "    #file path\n",
    "    file = re.findall('\\\"(.*?)\\\"', tmp[0])\n",
    "    #join parent work dir & file\n",
    "    path = os.path.join(os.path.dirname(os.getcwd()), file[0])\n",
    "    #md5\n",
    "    md5info = tmp[1].split(\":\")\n",
    "    md5 = md5info[1].replace(\"\\n\", '')\n",
    "    #checksum\n",
    "    p = os.popen(\"md5sum /home/junyuchen/Lab/Meta-Analysis/DataDownload/demo/ERR209530/ERR209530_2.fastq.gz\")\n",
    "    md5info2 = p.read()\n",
    "    md5sum = md5info2.split(\" \")\n",
    "    if md5 == md5sum[0]:\n",
    "        print(\"TRUE\")\n",
    "    else:\n",
    "\n",
    "\n",
    "    #if not, add to pandas \n",
    "    #add all info to pandas?\n",
    "\n",
    "    f.close()"
   ]
  },
  {
   "cell_type": "markdown",
   "metadata": {},
   "source": [
    "写成函数好像不好记录md5check的信息?"
   ]
  },
  {
   "cell_type": "code",
   "execution_count": 166,
   "metadata": {},
   "outputs": [
    {
     "name": "stdout",
     "output_type": "stream",
     "text": [
      "TRUE\n",
      "TRUE\n"
     ]
    }
   ],
   "source": [
    "import os\n",
    "import re\n",
    "from subprocess import check_output\n",
    "\n",
    "md5s = \"/home/junyuchen/Lab/Meta-Analysis/DataDownload/demo/ERR695619\"\n",
    "for md5 in os.listdir(md5s):\n",
    "    \n",
    "    if md5.endswith(\".manifest.txt\"):\n",
    "        path = os.path.join(md5s, md5)\n",
    "        f = open(path, \"r\")\n",
    "        all_lines = f.readlines()\n",
    "        info = all_lines[16]\n",
    "        tmp = info.split(\",\")\n",
    "        #file path\n",
    "        file = re.findall('\\\"(.*?)\\\"', tmp[0])\n",
    "        #join parent work dir & file\n",
    "        path = os.path.join(os.path.dirname(os.getcwd()), file[0])\n",
    "        #md5\n",
    "        md5info = tmp[1].split(\":\")\n",
    "        md5 = md5info[1].replace(\"\\n\", '')\n",
    "        #checksum\n",
    "        fastq = os.path.join(md5s, file[0])\n",
    "        out = check_output([\"md5sum\", fastq])\n",
    "\n",
    "        md5sum = out.decode(\"utf-8\").split(\"  \") \n",
    "        \n",
    "        if md5 == md5sum[0]:\n",
    "            print(\"TRUE\")\n",
    "        else:\n",
    "            print(\"FALSE\")\n",
    "            \n",
    "        f.close()\n",
    "\n",
    "\n",
    "    #if not, add to pandas \n",
    "    #add all info to pandas?\n",
    "\n",
    "    "
   ]
  },
  {
   "cell_type": "code",
   "execution_count": 155,
   "metadata": {},
   "outputs": [],
   "source": [
    "import os\n",
    "import subprocess\n",
    "args = \"/home/junyuchen/Lab/Meta-Analysis/DataDownload/demo/ERR209530/ERR209530_2.fastq.gz\"\n",
    "p = subprocess.Popen([\"md5sum\", args], stdout=subprocess.PIPE)\n",
    "\n",
    "result = p.communicate()[0]"
   ]
  },
  {
   "cell_type": "code",
   "execution_count": 156,
   "metadata": {},
   "outputs": [
    {
     "data": {
      "text/plain": [
       "b'8d356138206ff55b374f822f64b3ec55  /home/junyuchen/Lab/Meta-Analysis/DataDownload/demo/ERR209530/ERR209530_2.fastq.gz\\n'"
      ]
     },
     "execution_count": 156,
     "metadata": {},
     "output_type": "execute_result"
    }
   ],
   "source": [
    "result"
   ]
  },
  {
   "cell_type": "code",
   "execution_count": 148,
   "metadata": {},
   "outputs": [
    {
     "ename": "AttributeError",
     "evalue": "'NoneType' object has no attribute 'read'",
     "output_type": "error",
     "traceback": [
      "\u001b[0;31m---------------------------------------------------------------------------\u001b[0m",
      "\u001b[0;31mAttributeError\u001b[0m                            Traceback (most recent call last)",
      "\u001b[0;32m<ipython-input-148-1404f4b51698>\u001b[0m in \u001b[0;36m<module>\u001b[0;34m\u001b[0m\n\u001b[0;32m----> 1\u001b[0;31m \u001b[0mp\u001b[0m\u001b[0;34m.\u001b[0m\u001b[0mstdout\u001b[0m\u001b[0;34m.\u001b[0m\u001b[0mread\u001b[0m\u001b[0;34m(\u001b[0m\u001b[0;34m)\u001b[0m\u001b[0;34m\u001b[0m\u001b[0;34m\u001b[0m\u001b[0m\n\u001b[0m",
      "\u001b[0;31mAttributeError\u001b[0m: 'NoneType' object has no attribute 'read'"
     ]
    }
   ],
   "source": [
    "p.stdout.read()"
   ]
  },
  {
   "cell_type": "code",
   "execution_count": 144,
   "metadata": {},
   "outputs": [],
   "source": [
    "p"
   ]
  },
  {
   "cell_type": "code",
   "execution_count": 141,
   "metadata": {},
   "outputs": [
    {
     "ename": "TypeError",
     "evalue": "'NoneType' object is not callable",
     "output_type": "error",
     "traceback": [
      "\u001b[0;31m---------------------------------------------------------------------------\u001b[0m",
      "\u001b[0;31mTypeError\u001b[0m                                 Traceback (most recent call last)",
      "\u001b[0;32m<ipython-input-141-acae2f68239b>\u001b[0m in \u001b[0;36m<module>\u001b[0;34m\u001b[0m\n\u001b[0;32m----> 1\u001b[0;31m \u001b[0mp\u001b[0m\u001b[0;34m.\u001b[0m\u001b[0mstdout\u001b[0m\u001b[0;34m(\u001b[0m\u001b[0;34m)\u001b[0m\u001b[0;34m\u001b[0m\u001b[0;34m\u001b[0m\u001b[0m\n\u001b[0m",
      "\u001b[0;31mTypeError\u001b[0m: 'NoneType' object is not callable"
     ]
    }
   ],
   "source": [
    "p.stdout()"
   ]
  },
  {
   "cell_type": "code",
   "execution_count": 134,
   "metadata": {},
   "outputs": [
    {
     "name": "stdout",
     "output_type": "stream",
     "text": [
      "8d356138206ff55b374f822f64b3ec55  /home/junyuchen/Lab/Meta-Analysis/DataDownload/demo/ERR209530/ERR209530_2.fastq.gz\n"
     ]
    }
   ],
   "source": [
    "!md5sum /home/junyuchen/Lab/Meta-Analysis/DataDownload/demo/ERR209530/ERR209530_2.fastq.gz"
   ]
  },
  {
   "cell_type": "code",
   "execution_count": 158,
   "metadata": {},
   "outputs": [],
   "source": [
    "fastq = os.path.join(md5s, args)\n",
    "out = check_output([\"md5sum\", fastq])"
   ]
  },
  {
   "cell_type": "code",
   "execution_count": 159,
   "metadata": {},
   "outputs": [
    {
     "data": {
      "text/plain": [
       "subprocess.Popen"
      ]
     },
     "execution_count": 159,
     "metadata": {},
     "output_type": "execute_result"
    }
   ],
   "source": [
    "subprocess.Popen"
   ]
  },
  {
   "cell_type": "code",
   "execution_count": 160,
   "metadata": {},
   "outputs": [
    {
     "data": {
      "text/plain": [
       "bytes"
      ]
     },
     "execution_count": 160,
     "metadata": {},
     "output_type": "execute_result"
    }
   ],
   "source": [
    "type(out)"
   ]
  },
  {
   "cell_type": "code",
   "execution_count": 163,
   "metadata": {},
   "outputs": [
    {
     "data": {
      "text/plain": [
       "['8d356138206ff55b374f822f64b3ec55',\n",
       " '/home/junyuchen/Lab/Meta-Analysis/DataDownload/demo/ERR209530/ERR209530_2.fastq.gz\\n']"
      ]
     },
     "execution_count": 163,
     "metadata": {},
     "output_type": "execute_result"
    }
   ],
   "source": [
    "out.decode(\"utf-8\").split(\"  \") "
   ]
  },
  {
   "cell_type": "code",
   "execution_count": null,
   "metadata": {},
   "outputs": [],
   "source": []
  }
 ],
 "metadata": {
  "kernelspec": {
   "display_name": "Python 3",
   "language": "python",
   "name": "python3"
  },
  "language_info": {
   "codemirror_mode": {
    "name": "ipython",
    "version": 3
   },
   "file_extension": ".py",
   "mimetype": "text/x-python",
   "name": "python",
   "nbconvert_exporter": "python",
   "pygments_lexer": "ipython3",
   "version": "3.7.6"
  }
 },
 "nbformat": 4,
 "nbformat_minor": 4
}

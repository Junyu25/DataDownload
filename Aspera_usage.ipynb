{
 "cells": [
  {
   "cell_type": "markdown",
   "metadata": {},
   "source": [
    "### 配置"
   ]
  },
  {
   "cell_type": "code",
   "execution_count": null,
   "metadata": {},
   "outputs": [],
   "source": [
    "conda install -c hcc aspera-cli"
   ]
  },
  {
   "cell_type": "code",
   "execution_count": null,
   "metadata": {},
   "outputs": [],
   "source": [
    "conda install -c bioconda enabrowsertools"
   ]
  },
  {
   "cell_type": "markdown",
   "metadata": {},
   "source": [
    "## Aspera Download EBI fastq"
   ]
  },
  {
   "cell_type": "code",
   "execution_count": null,
   "metadata": {},
   "outputs": [],
   "source": [
    "/home/junyuchen/Biosoft/anaconda3/etc/asperaweb_id_dsa.openssh"
   ]
  },
  {
   "cell_type": "markdown",
   "metadata": {},
   "source": [
    "### NCBI SRA 数据下载"
   ]
  },
  {
   "cell_type": "code",
   "execution_count": null,
   "metadata": {},
   "outputs": [],
   "source": [
    "ascp -v -k 1 -T -l 200m -i /home/junyuchen/Biosoft/anaconda3/etc/asperaweb_id_dsa.openssh anonftp@ftp-private.ncbi.nlm.nih.gov:/sra/sra-instant/reads/ByRun/sra/SRR/SRR653/SRR653396/SRR653396.sra ./"
   ]
  },
  {
   "cell_type": "markdown",
   "metadata": {},
   "source": [
    "### prefetch 调用 Aspera"
   ]
  },
  {
   "cell_type": "markdown",
   "metadata": {},
   "source": [
    "安装了aspera以后，prefetch会优先调用aspera，下载代码为:"
   ]
  },
  {
   "cell_type": "code",
   "execution_count": null,
   "metadata": {},
   "outputs": [],
   "source": [
    "prefetch --ascp-path '$HOME/.aspera/connect/bin/ascp|$HOME/.aspera/connect/etc/asperaweb_id_dsa.openssh' SRR653396"
   ]
  },
  {
   "cell_type": "markdown",
   "metadata": {},
   "source": [
    "### ENA fastq 下载数据"
   ]
  },
  {
   "cell_type": "markdown",
   "metadata": {},
   "source": [
    "```shell\n",
    "ascp -QT -l 300m -P33001 -i <aspera connect installation directory>/etc/asperaweb_id_dsa.openssh era-fasp@fasp.sra.ebi.ac.uk:<file or files to download> <download location>\n",
    "```"
   ]
  },
  {
   "cell_type": "markdown",
   "metadata": {},
   "source": [
    "```shell\n",
    "ascp -QT -l 300m -P33001 -i /etc/asperaweb_id_dsa.openssh era-fasp@fasp.sra.ebi.ac.uk:/vol1/fastq/ERR036/ERR036000/ERR036000_1.fastq.gz .\n",
    "```"
   ]
  },
  {
   "cell_type": "code",
   "execution_count": null,
   "metadata": {},
   "outputs": [],
   "source": [
    "ascp -v -k 1 -T -l 200m -P 33001 -i /home/junyuchen/Biosoft/anaconda3/etc/asperaweb_id_dsa.openssh era-fasp@fasp.sra.ebi.ac.uk:/vol1/fastq/SRR949/SRR949627/SRR949627_1.fastq.gz ./"
   ]
  },
  {
   "cell_type": "code",
   "execution_count": null,
   "metadata": {},
   "outputs": [],
   "source": [
    "./ascp -P33001 -O33001 -QT -L- -l 1000M ega-box-N@fasp.ega.ebi.ac.uk:<SRC> <DST>"
   ]
  },
  {
   "cell_type": "markdown",
   "metadata": {},
   "source": [
    "### enaBrowserTools   \n",
    "https://github.com/enasequence/enaBrowserTools"
   ]
  },
  {
   "cell_type": "markdown",
   "metadata": {},
   "source": [
    "/home/junyuchen/Lab/Meta-Analysis/DataDownload/aspera_settings.ini"
   ]
  },
  {
   "cell_type": "code",
   "execution_count": null,
   "metadata": {},
   "outputs": [],
   "source": [
    "enaDataGet -f fastq -as /home/junyuchen/Lab/Meta-Analysis/DataDownload/aspera_settings.ini ACCESSION"
   ]
  },
  {
   "cell_type": "markdown",
   "metadata": {},
   "source": [
    "set an ENA_ASPERA_INIFILE environment variable to save the location:   \n",
    "`export ENA_ASPERA_INIFILE=\"/path/to/aspera_settings.ini\"`   \n",
    "so don't need to specify the location of the aspera settings file each time"
   ]
  },
  {
   "cell_type": "code",
   "execution_count": 1,
   "metadata": {},
   "outputs": [],
   "source": [
    "export ENA_ASPERA_INIFILE=\"/home/junyuchen/Lab/Meta-Analysis/DataDownload/aspera_settings.ini\""
   ]
  },
  {
   "cell_type": "markdown",
   "metadata": {},
   "source": [
    "### enaGroupGet"
   ]
  },
  {
   "cell_type": "markdown",
   "metadata": {},
   "source": [
    "download all data of a particular group for a given sample or study accession. "
   ]
  },
  {
   "cell_type": "code",
   "execution_count": null,
   "metadata": {},
   "outputs": [],
   "source": [
    "enaGroupGet -f fastq -as /home/junyuchen/Lab/Meta-Analysis/DataDownload/aspera_settings.ini ERR209529"
   ]
  },
  {
   "cell_type": "markdown",
   "metadata": {},
   "source": [
    "### Download test"
   ]
  },
  {
   "cell_type": "code",
   "execution_count": null,
   "metadata": {},
   "outputs": [],
   "source": [
    "enaDataGet -f fastq -as /home/junyuchen/Lab/Meta-Analysis/DataDownload/aspera_settings.ini ERR209529"
   ]
  },
  {
   "cell_type": "code",
   "execution_count": null,
   "metadata": {},
   "outputs": [],
   "source": [
    "ftp://ftp.sra.ebi.ac.uk/vol1/fastq/ERR209/ERR209529/ERR209529_1.fastq.gz"
   ]
  },
  {
   "cell_type": "code",
   "execution_count": null,
   "metadata": {},
   "outputs": [],
   "source": []
  },
  {
   "cell_type": "code",
   "execution_count": null,
   "metadata": {},
   "outputs": [],
   "source": [
    "ascp -v -k 1 -T -l 200m -P 33001 -i /home/junyuchen/Biosoft/anaconda3/etc/asperaweb_id_dsa.openssh era-fasp@fasp.sra.ebi.ac.uk:/vol1/fastq/SRR949/SRR949627/SRR949627_1.fastq.gz ./"
   ]
  },
  {
   "cell_type": "markdown",
   "metadata": {},
   "source": [
    "### ERR695621"
   ]
  },
  {
   "cell_type": "code",
   "execution_count": null,
   "metadata": {},
   "outputs": [],
   "source": [
    "enaDataGet -f fastq -as /home/junyuchen/Lab/Meta-Analysis/DataDownload/aspera_settings.ini ERR695621"
   ]
  },
  {
   "cell_type": "code",
   "execution_count": null,
   "metadata": {},
   "outputs": [],
   "source": [
    "enaDataGet -f fastq -as /home/junyuchen/Lab/Meta-Analysis/DataDownload/aspera_settings.ini SRR6066071"
   ]
  },
  {
   "cell_type": "code",
   "execution_count": null,
   "metadata": {},
   "outputs": [],
   "source": [
    "enaDataGet -f fastq -as /home/junyuchen/Lab/Meta-Analysis/DataDownload/aspera_settings.ini ERR695619"
   ]
  },
  {
   "cell_type": "markdown",
   "metadata": {},
   "source": [
    "```shell\n",
    "Downloading file with md5 check:fasp.sra.ebi.ac.uk:/vol1/fastq/ERR695/ERR695621/ERR695621_1.fastq.gz\n",
    "Creating /home/junyuchen/Lab/Meta-Analysis/DataDownload/data/ERR695621/logs\n",
    "/home/junyuchen/Biosoft/anaconda3/bin/ascp -QT -L /home/junyuchen/Lab/Meta-Analysis/DataDownload/data/ERR695621/logs -l 200M -P33001 -c -i /home/junyuchen/Biosoft/anaconda3/etc/asperaweb_id_dsa.openssh era-fasp@fasp.sra.ebi.ac.uk:/vol1/fastq/ERR695/ERR695621/ERR695621_1.fastq.gz ./ERR695621\n",
    "```"
   ]
  },
  {
   "cell_type": "markdown",
   "metadata": {},
   "source": [
    "```shell\n",
    "(base) junyuchen@node1:~/Lab/Meta-Analysis/DataDownload/data$ enaDataGet -f fastq -as /home/junyuchen/Lab/Meta-Analysis/DataDownload/aspera_settings.ini ERR695621\n",
    "Downloading file with md5 check:fasp.sra.ebi.ac.uk:/vol1/fastq/ERR695/ERR695621/ERR695621_1.fastq.gz\n",
    "Creating /home/junyuchen/Lab/Meta-Analysis/DataDownload/data/ERR695621/logs\n",
    "/home/junyuchen/Biosoft/anaconda3/bin/ascp -QT -L /home/junyuchen/Lab/Meta-Analysis/DataDownload/data/ERR695621/logs -l 200M -P33001 -k 1 -i /home/junyuchen/Biosoft/anaconda3/etc/asperaweb_id_dsa.openssh era-fasp@fasp.sra.ebi.ac.uk:/vol1/fastq/ERR695/ERR695621/ERR695621_1.fastq.gz ./ERR695621\n",
    "```"
   ]
  },
  {
   "cell_type": "code",
   "execution_count": null,
   "metadata": {},
   "outputs": [],
   "source": []
  },
  {
   "cell_type": "code",
   "execution_count": null,
   "metadata": {},
   "outputs": [],
   "source": [
    "http://ftp.ebi.ac.uk/pub/databases/metagenomics/mgnify_genomes/human-gut/v1.0/uhgg_catalogue/"
   ]
  },
  {
   "cell_type": "markdown",
   "metadata": {},
   "source": [
    "```shell\n",
    "ascp -QT -L -l 200M -P33001 -c -i /home/junyuchen/Biosoft/anaconda3/etc/asperaweb_id_dsa.openssh era-fasp@fasp.ebi.ac.uk:/pub/databases/metagenomics/mgnify_genomes/human-gut/v1.0/uhgg_catalogue ./uhgg_catalogue\n",
    "```"
   ]
  },
  {
   "cell_type": "code",
   "execution_count": null,
   "metadata": {},
   "outputs": [],
   "source": []
  }
 ],
 "metadata": {
  "kernelspec": {
   "display_name": "Bash",
   "language": "bash",
   "name": "bash"
  },
  "language_info": {
   "codemirror_mode": "shell",
   "file_extension": ".sh",
   "mimetype": "text/x-sh",
   "name": "bash"
  }
 },
 "nbformat": 4,
 "nbformat_minor": 4
}
